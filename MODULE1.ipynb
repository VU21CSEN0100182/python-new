{
  "nbformat": 4,
  "nbformat_minor": 0,
  "metadata": {
    "colab": {
      "name": "MODULE1",
      "provenance": [],
      "collapsed_sections": [],
      "authorship_tag": "ABX9TyM8dHPjkK2aQhLAFbN5ASQO",
      "include_colab_link": true
    },
    "kernelspec": {
      "name": "python3",
      "display_name": "Python 3"
    },
    "language_info": {
      "name": "python"
    }
  },
  "cells": [
    {
      "cell_type": "markdown",
      "metadata": {
        "id": "view-in-github",
        "colab_type": "text"
      },
      "source": [
        "<a href=\"https://colab.research.google.com/github/VU21CSEN0100182/python-new/blob/module-1/MODULE1.ipynb\" target=\"_parent\"><img src=\"https://colab.research.google.com/assets/colab-badge.svg\" alt=\"Open In Colab\"/></a>"
      ]
    },
    {
      "cell_type": "markdown",
      "source": [
        "Accept input from user and store it in variable and print the value"
      ],
      "metadata": {
        "id": "peV2BsOJdSCx"
      }
    },
    {
      "cell_type": "code",
      "execution_count": null,
      "metadata": {
        "colab": {
          "base_uri": "https://localhost:8080/"
        },
        "id": "-OHm9gjqbICW",
        "outputId": "3c62ffcc-1f60-4e79-cf1c-ec6ab8c25485"
      },
      "outputs": [
        {
          "output_type": "stream",
          "name": "stdout",
          "text": [
            "48\n",
            "78\n",
            "-26\n"
          ]
        }
      ],
      "source": [
        "a=300\n",
        "b=200\n",
        "c=int(input())\n",
        "d=int(input())\n",
        "e=(a)-(b)-(c)-(d)\n",
        "print(e)"
      ]
    },
    {
      "cell_type": "markdown",
      "source": [
        "Use of print statements and use of (.format )for printing different data types"
      ],
      "metadata": {
        "id": "XG9xuXWJfRfh"
      }
    },
    {
      "cell_type": "code",
      "source": [
        "quantity = 2\n",
        "itemno = 118\n",
        "price = 299\n",
        "myorder = \"I want {} pieces of item {} for {} rupees.\"\n",
        "print(myorder.format(quantity, itemno, price))"
      ],
      "metadata": {
        "colab": {
          "base_uri": "https://localhost:8080/"
        },
        "id": "7CCNYCPsfVWn",
        "outputId": "3ff5ec39-55b5-4a5a-c1ef-6deccc3c27c8"
      },
      "execution_count": null,
      "outputs": [
        {
          "output_type": "stream",
          "name": "stdout",
          "text": [
            "I want 2 pieces of item 118 for 299 rupees.\n"
          ]
        }
      ]
    },
    {
      "cell_type": "code",
      "source": [
        "quantity = 5\n",
        "itemno = 827\n",
        "price = 1059\n",
        "myorder = \"I want to pay {2} rupees for {0} pieces of item {1}.\"\n",
        "print(myorder.format(quantity, itemno, price))"
      ],
      "metadata": {
        "colab": {
          "base_uri": "https://localhost:8080/"
        },
        "id": "kF3XJBwmlvKA",
        "outputId": "a70539f0-6437-415e-c6e9-c1763cae35a5"
      },
      "execution_count": null,
      "outputs": [
        {
          "output_type": "stream",
          "name": "stdout",
          "text": [
            "I want to pay 1059 rupees for 5 pieces of item 827.\n"
          ]
        }
      ]
    },
    {
      "cell_type": "markdown",
      "source": [
        " Take 2 numbers as user input and add, multiply, divide, subtract, remainder and print the output"
      ],
      "metadata": {
        "id": "NbEJQtVIhZX6"
      }
    },
    {
      "cell_type": "code",
      "source": [
        "a=(int(input(\"Enter the numbers\")))\n",
        "b=(int(input(\"Enter the numbers\")))\n",
        "sum=a+b\n",
        "print(sum)\n",
        "sub=a-b\n",
        "print(sub)\n",
        "multiply=a*b\n",
        "print(multiply)\n",
        "divide=a/b\n",
        "print(divide)\n",
        "rem=a%b\n",
        "print(rem)\n",
        "print(type(0))"
      ],
      "metadata": {
        "colab": {
          "base_uri": "https://localhost:8080/"
        },
        "id": "Q4Htirc9hl6V",
        "outputId": "04b377d8-1ad4-401b-97f0-8c401b6e3b32"
      },
      "execution_count": null,
      "outputs": [
        {
          "output_type": "stream",
          "name": "stdout",
          "text": [
            "Enter the numbers3\n",
            "Enter the numbers2\n",
            "5\n",
            "1\n",
            "6\n",
            "1.5\n",
            "1\n",
            "<class 'int'>\n"
          ]
        }
      ]
    },
    {
      "cell_type": "code",
      "source": [
        "a=70\n",
        "b=32\n",
        "sum=a+b\n",
        "print(sum)\n",
        "sub=a-b\n",
        "print(sub)\n",
        "multiply=a*b\n",
        "print(multiply)\n",
        "divide=a/b\n",
        "print(divide)\n",
        "rem=a%b\n",
        "print(rem)\n",
        "print(type(a))"
      ],
      "metadata": {
        "colab": {
          "base_uri": "https://localhost:8080/"
        },
        "id": "vVVPviFcj-FP",
        "outputId": "38e0c8a8-8e66-4ed9-b47d-d0e0003c8c7d"
      },
      "execution_count": null,
      "outputs": [
        {
          "output_type": "stream",
          "name": "stdout",
          "text": [
            "102\n",
            "38\n",
            "2240\n",
            "2.1875\n",
            "6\n",
            "<class 'int'>\n"
          ]
        }
      ]
    },
    {
      "cell_type": "markdown",
      "source": [
        "Same operations on floating point input as well"
      ],
      "metadata": {
        "id": "PfNadiwSjRng"
      }
    },
    {
      "cell_type": "code",
      "source": [
        "a=9.6\n",
        "b=4.2\n",
        "sum=a+b\n",
        "print(sum)\n",
        "sub=a-b\n",
        "print(sub)\n",
        "multiply=a*b\n",
        "print(multiply)\n",
        "divide=a/b\n",
        "print(divide)\n",
        "rem=a%b\n",
        "print(rem)\n",
        "print(type(a))"
      ],
      "metadata": {
        "colab": {
          "base_uri": "https://localhost:8080/"
        },
        "id": "lm0Z-NswjDy_",
        "outputId": "b16d2c64-7946-45a7-b69b-22a7a08ee110"
      },
      "execution_count": null,
      "outputs": [
        {
          "output_type": "stream",
          "name": "stdout",
          "text": [
            "13.8\n",
            "5.3999999999999995\n",
            "40.32\n",
            "2.2857142857142856\n",
            "1.1999999999999993\n",
            "<class 'float'>\n"
          ]
        }
      ]
    },
    {
      "cell_type": "markdown",
      "source": [
        "Conversion of one unit to another (such as hours to minutes, miles to km and etc)"
      ],
      "metadata": {
        "id": "ni9Mqwb4kIiv"
      }
    },
    {
      "cell_type": "code",
      "source": [
        "kilometers = float(input(\"Enter value in kilometers: \"))\n",
        "conv_fac = 0.621371\n",
        "miles = kilometers * conv_fac\n",
        "print('%0.2f kilometers is equal to %0.2f miles' %(kilometers,miles))"
      ],
      "metadata": {
        "colab": {
          "base_uri": "https://localhost:8080/"
        },
        "id": "esTeYMc1kH6f",
        "outputId": "811d955d-efe4-45a7-c491-3c43eee7fc35"
      },
      "execution_count": null,
      "outputs": [
        {
          "output_type": "stream",
          "name": "stdout",
          "text": [
            "Enter value in kilometers: 56\n",
            "56.00 kilometers is equal to 34.80 miles\n"
          ]
        }
      ]
    },
    {
      "cell_type": "markdown",
      "source": [
        "Usage of mathematical functions in python like math.ceil, floor, fabs, fmod, trunc,pow, sqrt etc"
      ],
      "metadata": {
        "id": "1uspmDD5pyOw"
      }
    },
    {
      "cell_type": "code",
      "source": [
        "import math\n",
        "my_int=4.5678\n",
        "print(math.ceil(my_int))\n",
        "my_int=4.5678\n",
        "print(math.floor(my_int))\n",
        "my_int=4.5678\n",
        "print(math.fabs(my_int))\n",
        "print(math.fmod(4.5678, 7.8976))\n",
        "my_int=4.5678\n",
        "print(math.trunc(my_int))\n",
        "print(math.pow(4.5678, 7.8976))\n",
        "my_int=4.5678\n",
        "print(math.sqrt(my_int))"
      ],
      "metadata": {
        "id": "a8IaejARp5eA",
        "colab": {
          "base_uri": "https://localhost:8080/"
        },
        "outputId": "59d72352-5d8e-4752-dd7c-42721c999de8"
      },
      "execution_count": null,
      "outputs": [
        {
          "output_type": "stream",
          "name": "stdout",
          "text": [
            "5\n",
            "4\n",
            "4.5678\n",
            "4.5678\n",
            "4\n",
            "162219.3423504213\n",
            "2.1372412124044398\n"
          ]
        }
      ]
    },
    {
      "cell_type": "markdown",
      "source": [
        "Building a mathematical calculator that can perform operations according to user input. Use decision making statement"
      ],
      "metadata": {
        "id": "ZKHIaziFF1hc"
      }
    },
    {
      "cell_type": "code",
      "source": [
        "a=float (input (\"enter number \"))\n",
        "b=float (input (\"enter a number \"))\n",
        "i=input(\"enter operation\")\n",
        "if i==\"+\":\n",
        "  print (a+b)\n",
        "elif i==\"-\":\n",
        " print(a-b)\n",
        "elif i==\"%\":\n",
        " print (axb)\n",
        "elif i==\"*\":\n",
        " print (a*b)\n",
        "else:\n",
        " print(a/b)"
      ],
      "metadata": {
        "colab": {
          "base_uri": "https://localhost:8080/"
        },
        "id": "dRsdeA6cLrOH",
        "outputId": "746445e9-cd39-40dc-eaf2-dfea7a787a28"
      },
      "execution_count": null,
      "outputs": [
        {
          "output_type": "stream",
          "name": "stdout",
          "text": [
            "enter number 4\n",
            "enter a number 5\n",
            "enter operation*\n",
            "20.0\n"
          ]
        }
      ]
    },
    {
      "cell_type": "markdown",
      "source": [
        "Accepting 5 different subject marks from user and displaying the grade of the student"
      ],
      "metadata": {
        "id": "cfmPBQ-lqFGw"
      }
    },
    {
      "cell_type": "code",
      "source": [
        "a=(int(input(\"Enter 1st subject marks\")))\n",
        "b=(int(input(\"Enter 2nd subject marks\")))\n",
        "c=(int(input(\"Enter 3rd subject marks\")))\n",
        "d=(int(input(\"Enter 4th subject marks\")))\n",
        "e=(int(input(\"Enter 5th subject marks\")))\n",
        "f=(a+b+c+d+e)/5\n",
        "if f>90:\n",
        "  print(\"grade A\")\n",
        "elif f>90 and f<95:\n",
        "  print(\"grade B\")\n",
        "elif f>80 and f<90:\n",
        "  print(\"grade C\")\n",
        "elif f>70:\n",
        "  print(\"grade D\")"
      ],
      "metadata": {
        "colab": {
          "base_uri": "https://localhost:8080/"
        },
        "id": "5IFW2KW0qEXQ",
        "outputId": "e43e5af8-aac4-42b4-a15f-be55a99df581"
      },
      "execution_count": null,
      "outputs": [
        {
          "output_type": "stream",
          "name": "stdout",
          "text": [
            "Enter 1st subject marks689\n",
            "Enter 2nd subject marks786\n",
            "Enter 3rd subject marks896\n",
            "Enter 4th subject marks678\n",
            "Enter 5th subject marks86\n",
            "grade A\n"
          ]
        }
      ]
    },
    {
      "cell_type": "markdown",
      "source": [
        "decimal"
      ],
      "metadata": {
        "id": "hk1eDvIsu_rI"
      }
    },
    {
      "cell_type": "code",
      "source": [
        "a=float(input(\"Enter 1st subject marks\"))\n",
        "b=float(input(\"Enter 2nd subject marks\"))\n",
        "c=float(input(\"Enter 3rd subject marks\"))\n",
        "d=float(input(\"Enter 4th subject marks\"))\n",
        "e=float(input(\"Enter 5th subject marks\"))\n",
        "f=(a+b+c+d+e)/5\n",
        "if f>90:\n",
        "  print(\"grade A\")\n",
        "elif f>90 and f<95:\n",
        "  print(\"grade B\")\n",
        "elif f>80 and f<90:\n",
        "  print(\"grade C\")\n",
        "elif f>70:\n",
        "  print(\"grade D\")"
      ],
      "metadata": {
        "colab": {
          "base_uri": "https://localhost:8080/"
        },
        "id": "gwkphYs-r7U5",
        "outputId": "1a17ead0-828f-426d-c580-f81f8c2661ec"
      },
      "execution_count": null,
      "outputs": [
        {
          "output_type": "stream",
          "name": "stdout",
          "text": [
            "Enter 1st subject marks99.5\n",
            "Enter 2nd subject marks55.6\n",
            "Enter 3rd subject marks85.7\n",
            "Enter 4th subject marks52.7\n",
            "Enter 5th subject marks99\n",
            "grade D\n"
          ]
        }
      ]
    },
    {
      "cell_type": "markdown",
      "source": [
        "Printing all even numbers, odd numbers, count of even numbers, count of odd numbers within a given range."
      ],
      "metadata": {
        "id": "s8upMkUDGBhs"
      }
    },
    {
      "cell_type": "code",
      "source": [
        "n=int(input (\"enter range \"))\n",
        "c=0\n",
        "for i in range(1,n+1):\n",
        " if i%2==0: \n",
        "   c+=1\n",
        "   print(i)\n",
        "\n",
        "print(\"even count is \",c)\n",
        "\n",
        "d=0\n",
        "for i in range (1,n+1): \n",
        "  if i%2!=0:\n",
        "    d+=1\n",
        "  print(i)\n",
        "print(\"odd count is \",d)"
      ],
      "metadata": {
        "colab": {
          "base_uri": "https://localhost:8080/"
        },
        "id": "Gk4VhPnGGMXw",
        "outputId": "1fefc6ce-37bc-4f89-e1bf-0adc524d5dc5"
      },
      "execution_count": null,
      "outputs": [
        {
          "output_type": "stream",
          "name": "stdout",
          "text": [
            "enter range 5\n",
            "2\n",
            "4\n",
            "even count is  2\n",
            "1\n",
            "2\n",
            "3\n",
            "4\n",
            "5\n",
            "odd count is  3\n"
          ]
        }
      ]
    },
    {
      "cell_type": "markdown",
      "source": [
        "Compute the factorial of a given number"
      ],
      "metadata": {
        "id": "xiifrDBONTXB"
      }
    },
    {
      "cell_type": "code",
      "source": [
        "n=int(input(\"Enter a number\"))\n",
        "fac=1\n",
        "for i in range(1,n+1):\n",
        "   fac=fac*i\n",
        "   print(fac)"
      ],
      "metadata": {
        "colab": {
          "base_uri": "https://localhost:8080/"
        },
        "id": "oS_jf1naNT-g",
        "outputId": "f9b3adff-0dcd-4d8e-dcf4-1e857dfd7ee9"
      },
      "execution_count": null,
      "outputs": [
        {
          "output_type": "stream",
          "name": "stdout",
          "text": [
            "Enter a number5\n",
            "1\n",
            "2\n",
            "6\n",
            "24\n",
            "120\n"
          ]
        }
      ]
    },
    {
      "cell_type": "markdown",
      "source": [
        "Compute GCD of two given\n",
        "numbers"
      ],
      "metadata": {
        "id": "ZPk0Ty1SOUE-"
      }
    },
    {
      "cell_type": "code",
      "source": [
        "a=int(input(\"Enter a number\"))\n",
        "b=int(input(\"Enter a number\"))\n",
        "k=a if a<b else b\n",
        "while True:\n",
        "   if a%k==0 and b%k==0:\n",
        "      break\n",
        "      k+=1\n",
        "print(k)"
      ],
      "metadata": {
        "colab": {
          "base_uri": "https://localhost:8080/"
        },
        "id": "h2G6nHQ-WjaZ",
        "outputId": "2a6310ec-d6c4-4ec9-8ccc-a10daf9d1bc4"
      },
      "execution_count": null,
      "outputs": [
        {
          "output_type": "stream",
          "name": "stdout",
          "text": [
            "Enter a number10\n",
            "Enter a number20\n",
            "10\n"
          ]
        }
      ]
    },
    {
      "cell_type": "markdown",
      "source": [
        "Generate Fibonacci series up to N numbers"
      ],
      "metadata": {
        "id": "gFE7U9UISksf"
      }
    },
    {
      "cell_type": "code",
      "source": [
        "num=int(input(\"Enter a number\"))\n",
        "n1,n2=0,1\n",
        "print(\"Fibonacci series:\",n1,n2,end=\" \")\n",
        "for i in range(2,num):\n",
        "   n3=n1+n2\n",
        "   n1=n2\n",
        "   n2=n3\n",
        "   print(n3,end=\" \")"
      ],
      "metadata": {
        "colab": {
          "base_uri": "https://localhost:8080/"
        },
        "id": "JLoNCcUlSqlZ",
        "outputId": "0a3c2f25-d11f-404f-88bc-a4d637935baa"
      },
      "execution_count": null,
      "outputs": [
        {
          "output_type": "stream",
          "name": "stdout",
          "text": [
            "Enter a number6\n",
            "Fibonacci series: 0 1 1 2 3 5 "
          ]
        }
      ]
    },
    {
      "cell_type": "markdown",
      "source": [
        "Check whether the given input is"
      ],
      "metadata": {
        "id": "2zDuRYB8VQwt"
      }
    },
    {
      "cell_type": "code",
      "source": [
        "#palindrome \n",
        "\n",
        "def isPalindrome(str):\n",
        "    for i in range(0, int(len(str)/2)):\n",
        "        if str[i] != str[len(str)-i-1]:\n",
        "            return False\n",
        "    return True\n",
        "s=input(\"Enter input:\")\n",
        "ans = isPalindrome(s)\n",
        "if (ans):\n",
        "    print(\"Yes\")\n",
        "else:\n",
        "    print(\"No\")"
      ],
      "metadata": {
        "id": "kIG6sb1MVVYB",
        "colab": {
          "base_uri": "https://localhost:8080/"
        },
        "outputId": "dfd79a44-4cf1-4a81-a88e-2a42f93d4313"
      },
      "execution_count": null,
      "outputs": [
        {
          "output_type": "stream",
          "name": "stdout",
          "text": [
            "Enter input:dad\n",
            "Yes\n"
          ]
        }
      ]
    },
    {
      "cell_type": "code",
      "source": [
        "#string\n",
        "for x in \"orange\":\n",
        "  print(type(x)) "
      ],
      "metadata": {
        "id": "LSz4HMFKVaXC",
        "colab": {
          "base_uri": "https://localhost:8080/"
        },
        "outputId": "c020f5dd-3c56-47c2-9a92-a807de089fdd"
      },
      "execution_count": null,
      "outputs": [
        {
          "output_type": "stream",
          "name": "stdout",
          "text": [
            "<class 'str'>\n",
            "<class 'str'>\n",
            "<class 'str'>\n",
            "<class 'str'>\n",
            "<class 'str'>\n",
            "<class 'str'>\n"
          ]
        }
      ]
    },
    {
      "cell_type": "code",
      "source": [
        "#perfect\n",
        "num=int(input(\"Enter the number: \"))  \n",
        "sum_v=0  \n",
        "for i in range(1,num):  \n",
        "    if (num%i==0):  \n",
        "        sum_v=sum_v+i  \n",
        "if(sum_v==num):  \n",
        "    print(\"The entered number is a perfect number\")  \n",
        "else:  \n",
        "    print(\"The entered number is not a perfect number\")"
      ],
      "metadata": {
        "colab": {
          "base_uri": "https://localhost:8080/"
        },
        "id": "_yb5CP-pVhCs",
        "outputId": "317194d3-f992-41b1-b5b5-6a062927f29b"
      },
      "execution_count": null,
      "outputs": [
        {
          "output_type": "stream",
          "name": "stdout",
          "text": [
            "Enter the number: 6\n",
            "The entered number is a perfect number\n"
          ]
        }
      ]
    },
    {
      "cell_type": "markdown",
      "source": [
        "Compute compound interest using loop for a certain principal and interest amount"
      ],
      "metadata": {
        "id": "3cwps8AnVyup"
      }
    },
    {
      "cell_type": "code",
      "source": [
        "n=int(input(\"Enter the principle amount:\"))\n",
        "rate=int(input(\"Enter the rate:\"))\n",
        "years=int(input(\"Enter the number of years:\"))\n",
        "for i in range(years):\n",
        "    n=n+((n*rate)/100)\n",
        "print(n)"
      ],
      "metadata": {
        "colab": {
          "base_uri": "https://localhost:8080/"
        },
        "id": "nc305Q3vV3Cv",
        "outputId": "3e8864f9-7969-478c-c72f-ae39e7cb2626"
      },
      "execution_count": null,
      "outputs": [
        {
          "output_type": "stream",
          "name": "stdout",
          "text": [
            "Enter the principle amount:342\n",
            "Enter the rate:2\n",
            "Enter the number of years:3\n",
            "362.933136\n"
          ]
        }
      ]
    }
  ]
}