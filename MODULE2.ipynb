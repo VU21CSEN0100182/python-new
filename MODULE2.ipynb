{
  "nbformat": 4,
  "nbformat_minor": 0,
  "metadata": {
    "colab": {
      "name": "MODULE2",
      "provenance": [],
      "collapsed_sections": [],
      "authorship_tag": "ABX9TyOeVOhKJSHYHQjSxsgrhViC",
      "include_colab_link": true
    },
    "kernelspec": {
      "name": "python3",
      "display_name": "Python 3"
    },
    "language_info": {
      "name": "python"
    }
  },
  "cells": [
    {
      "cell_type": "markdown",
      "metadata": {
        "id": "view-in-github",
        "colab_type": "text"
      },
      "source": [
        "<a href=\"https://colab.research.google.com/github/VU21CSEN0100182/python-new/blob/module-2/MODULE2.ipynb\" target=\"_parent\"><img src=\"https://colab.research.google.com/assets/colab-badge.svg\" alt=\"Open In Colab\"/></a>"
      ]
    },
    {
      "cell_type": "code",
      "execution_count": null,
      "metadata": {
        "colab": {
          "base_uri": "https://localhost:8080/"
        },
        "id": "WjVN3XIKqFgj",
        "outputId": "1735dacb-ac2b-457e-9e6b-f00c50d36496"
      },
      "outputs": [
        {
          "output_type": "stream",
          "name": "stdout",
          "text": [
            "5\n",
            "2\n",
            "1\n"
          ]
        }
      ],
      "source": [
        "#Create a function which accepts two inputs from the user and compute nCr\n",
        "def nCr(a,b):\n",
        "  return(fact(a)/(fact(b)*fact(a-b)))\n",
        "a=int(input(\"\"))\n",
        "b=int(input(\"\"))\n",
        "def fact(a):\n",
        "  res=1\n",
        "  for i in range(2,a+1):\n",
        "    res=res*1\n",
        "  return res\n",
        "print(int(nCr(a,b)))"
      ]
    },
    {
      "cell_type": "code",
      "source": [
        "#Program to print a specified list after removing the 0th, 4th and 5th elements.\n",
        "#Sample List : ['Red', 'Green', 'White', 'Black', 'Pink', 'Yellow']\n",
        "#Expected Output : ['Green', 'White', 'Black']\n",
        "colour_list=['Red','Green','White','Black','Pink','Yellow']\n",
        "del colour_list[0]\n",
        "del colour_list[3]\n",
        "del colour_list[3]\n",
        "print(colour_list)"
      ],
      "metadata": {
        "id": "a54zdrcAy1zh",
        "colab": {
          "base_uri": "https://localhost:8080/"
        },
        "outputId": "49e29ffa-679f-4f8d-bc28-1541051b96c1"
      },
      "execution_count": null,
      "outputs": [
        {
          "output_type": "stream",
          "name": "stdout",
          "text": [
            "['Green', 'White', 'Black']\n"
          ]
        }
      ]
    },
    {
      "cell_type": "code",
      "source": [
        "#Program to get the difference between the two lists.\n",
        "num_list=[1,4,3,9,5,4,1,3]\n",
        "sum_list=[4,5,2,5,9,7,6]\n",
        "a=set(num_list)\n",
        "b=set(sum_list)\n",
        "c1=a.difference(b)\n",
        "c2=b.difference(a)\n",
        "print(list(c1))\n",
        "print(list(c2))"
      ],
      "metadata": {
        "colab": {
          "base_uri": "https://localhost:8080/"
        },
        "id": "vUMHyyyDL8mv",
        "outputId": "527a15e9-4f82-45bb-80d9-680b8cd85257"
      },
      "execution_count": null,
      "outputs": [
        {
          "output_type": "stream",
          "name": "stdout",
          "text": [
            "[1, 3]\n",
            "[2, 6, 7]\n"
          ]
        }
      ]
    },
    {
      "cell_type": "code",
      "source": [
        "#Program to find the second smallest number and second largest number in a list.\n",
        "a_list=[5,78,35,96,1,256,182,3]\n",
        "a_list.sort()\n",
        "print(a_list)\n",
        "print(\"The second smallest number in the given list is: \",a_list[1])\n",
        "print(\"The second largest number in the given list is: \",a_list[len(a_list)-2])"
      ],
      "metadata": {
        "colab": {
          "base_uri": "https://localhost:8080/"
        },
        "id": "M0cQdd4ZRdyV",
        "outputId": "e5944aef-076c-4021-a75e-385c9a1d53ec"
      },
      "execution_count": null,
      "outputs": [
        {
          "output_type": "stream",
          "name": "stdout",
          "text": [
            "[1, 3, 5, 35, 78, 96, 182, 256]\n",
            "The second smallest number in the given list is:  3\n",
            "The second largest number in the given list is:  182\n"
          ]
        }
      ]
    },
    {
      "cell_type": "code",
      "source": [
        "#Given a list of numbers of list, write a Python program to create a list of tuples having first element as\n",
        "#the number and second element as the square of the number.\n",
        "p_list=[4,99,7,55,22,9]\n",
        "result=[(x,x**2) for x in p_list]\n",
        "print(\"The required list is: \",result)"
      ],
      "metadata": {
        "colab": {
          "base_uri": "https://localhost:8080/"
        },
        "id": "BqFBvZCkVq5Q",
        "outputId": "b7945c94-0749-41fb-d8b4-8116d583d99e"
      },
      "execution_count": null,
      "outputs": [
        {
          "output_type": "stream",
          "name": "stdout",
          "text": [
            "The required list is:  [(4, 16), (99, 9801), (7, 49), (55, 3025), (22, 484), (9, 81)]\n"
          ]
        }
      ]
    },
    {
      "cell_type": "code",
      "source": [
        "#Given list of tuples, remove all the tuples with length K.\n",
        "#Input : test_list = [(4, 5), (4, ), (8, 6, 7), (1, ), (3, 4, 6, 7)], K = 2\n",
        "#Output : [(4, ), (8, 6, 7), (1, ), (3, 4, 6, 7)] \n",
        "num_list = [(4, 5), (4, ), (8, 6, 7), (1, ), (3, 4, 6, 7)]\n",
        "sum_list=[]\n",
        "K=2\n",
        "for x in num_list:\n",
        " if len(x)!=K:\n",
        "   sum_list.append(x)\n",
        "print(\"The filtered list without containing any element of tupple length '2' is:\",sum_list)"
      ],
      "metadata": {
        "colab": {
          "base_uri": "https://localhost:8080/"
        },
        "id": "3Z_PsuoGW5Kv",
        "outputId": "d185b827-69fc-4d2d-b4b8-0ebd83def65d"
      },
      "execution_count": null,
      "outputs": [
        {
          "output_type": "stream",
          "name": "stdout",
          "text": [
            "The filtered list without containing any element of tupple length '2' is: [(4,), (8, 6, 7), (1,), (3, 4, 6, 7)]\n"
          ]
        }
      ]
    },
    {
      "cell_type": "code",
      "source": [
        "#Program to generate and print a dictionary that contains a number (between 1and n) in the form (x, x*x).\n",
        "#Sample Input: (n=5) :\n",
        "#Expected Output : {1: 1, 2: 4, 3: 9, 4: 16, 5: 25}\n",
        "a_dictionary=dict()\n",
        "x=int(input(\"Enter a number:\"))\n",
        "for i in range(1,x+1):\n",
        " a_dictionary.update({i:i**2})\n",
        "print(\"The obtained dictionary is:\",a_dictionary)"
      ],
      "metadata": {
        "colab": {
          "base_uri": "https://localhost:8080/"
        },
        "id": "uwL4Uww1YPmC",
        "outputId": "202f1c64-b33b-4b20-96a3-936d682f017b"
      },
      "execution_count": null,
      "outputs": [
        {
          "output_type": "stream",
          "name": "stdout",
          "text": [
            "Enter a number:5\n",
            "The obtained dictionary is: {1: 1, 2: 4, 3: 9, 4: 16, 5: 25}\n"
          ]
        }
      ]
    },
    {
      "cell_type": "code",
      "source": [
        "#Program to remove a key from a dictionary\n",
        "chocolate={\n",
        "    'name':'munch',\n",
        "    'colour':'brown',\n",
        "    'taste':'sweet',\n",
        "    'cost':'30'\n",
        "}\n",
        "chocolate.pop('taste')\n",
        "print(chocolate)\n",
        "del chocolate['cost']\n",
        "print(chocolate)"
      ],
      "metadata": {
        "id": "qfkO0dwPZTn0",
        "colab": {
          "base_uri": "https://localhost:8080/"
        },
        "outputId": "ec047d3d-a3c7-4aca-c4d4-e13f1df18685"
      },
      "execution_count": null,
      "outputs": [
        {
          "output_type": "stream",
          "name": "stdout",
          "text": [
            "{'name': 'munch', 'colour': 'brown', 'cost': '30'}\n",
            "{'name': 'munch', 'colour': 'brown'}\n"
          ]
        }
      ]
    },
    {
      "cell_type": "code",
      "source": [
        "#Program to get the maximum and minimum value in a dictionary\n",
        "a_dictionary={\n",
        " 'a':45, 'b':75, 'c':38, 'd':24\n",
        " }\n",
        "max_value=max(a_dictionary, key=a_dictionary.get)\n",
        "min_value=min(a_dictionary, key=a_dictionary.get)\n",
        "print(\"The maximum value in the given dictionary has a key:'\"+max_value+\"' and its value is:\",a_dictionary[max_value])\n",
        "print(\"The minimum value in the given dictionary has a key:'\"+min_value+\"' and its value is:\",a_dictionary[min_value])"
      ],
      "metadata": {
        "colab": {
          "base_uri": "https://localhost:8080/"
        },
        "id": "A8rvN0cTg-Z6",
        "outputId": "d96e2b2d-c592-4d4c-b93e-70f64326f544"
      },
      "execution_count": null,
      "outputs": [
        {
          "output_type": "stream",
          "name": "stdout",
          "text": [
            "The maximum value in the given dictionary has a key:'b' and its value is: 75\n",
            "The minimum value in the given dictionary has a key:'d' and its value is: 24\n"
          ]
        }
      ]
    },
    {
      "cell_type": "code",
      "source": [
        "#Program to perform operations on string using unicodes ,splitting of string,accessing elements of string using locations\n",
        "string=input(\"enter a string: \")\n",
        "print(string.split())\n",
        "print(string[4:19])\n",
        "enter a string: python is the easiest programming language and it is a backend language"
      ],
      "metadata": {
        "colab": {
          "base_uri": "https://localhost:8080/",
          "height": 131
        },
        "id": "IG073d9Slh3e",
        "outputId": "68af648b-7fa6-4b6d-d379-4bbd85ff04c9"
      },
      "execution_count": null,
      "outputs": [
        {
          "output_type": "error",
          "ename": "SyntaxError",
          "evalue": "ignored",
          "traceback": [
            "\u001b[0;36m  File \u001b[0;32m\"<ipython-input-27-3c0ffe013940>\"\u001b[0;36m, line \u001b[0;32m5\u001b[0m\n\u001b[0;31m    enter a string: python is the easiest programming language and it is a back end language\u001b[0m\n\u001b[0m          ^\u001b[0m\n\u001b[0;31mSyntaxError\u001b[0m\u001b[0;31m:\u001b[0m invalid syntax\n"
          ]
        }
      ]
    },
    {
      "cell_type": "code",
      "source": [
        "# Program for Counting occurrence of a certain element in a string, getting indexes that have matching elements.For ex -.In Rabbit count how many times b has occurred .\n",
        "#Example-I have to go to a doctor and get myself checked. Count the number of occXrrences of to¶.\n",
        "str_1=\"rabbit\"\n",
        "print(str_1.count('b'))\n",
        "str_2=\"I have to go to a doctor and get myself checked.\"\n",
        "print(str_2.count('to'))"
      ],
      "metadata": {
        "colab": {
          "base_uri": "https://localhost:8080/"
        },
        "id": "S4iZ0zvGm-8q",
        "outputId": "4557148a-0556-41ef-a2f5-02a859bbb158"
      },
      "execution_count": null,
      "outputs": [
        {
          "output_type": "stream",
          "name": "stdout",
          "text": [
            "2\n",
            "3\n"
          ]
        }
      ]
    },
    {
      "cell_type": "code",
      "source": [
        "#Program for replacing one substring by another For example - Rabbit - Replace bb by cc.\n",
        "string='Rabbit'\n",
        "a_string=string.replace('bb','cc')\n",
        "print(a_string)"
      ],
      "metadata": {
        "colab": {
          "base_uri": "https://localhost:8080/"
        },
        "id": "rSMc6AFin--_",
        "outputId": "01ad3513-8b01-4be7-83ca-06786c833ac8"
      },
      "execution_count": null,
      "outputs": [
        {
          "output_type": "stream",
          "name": "stdout",
          "text": [
            "Raccit\n"
          ]
        }
      ]
    },
    {
      "cell_type": "code",
      "source": [
        "#Program to Acronym generator for any user input\n",
        "string=input(\"enter some string:\")\n",
        "a=string.split()\n",
        "for i in a:\n",
        " print(i[0],end='')"
      ],
      "metadata": {
        "colab": {
          "base_uri": "https://localhost:8080/"
        },
        "id": "9uW2FxGvoaEm",
        "outputId": "3819ac18-344f-4f55-ee0b-78bc7d71f28c"
      },
      "execution_count": null,
      "outputs": [
        {
          "output_type": "stream",
          "name": "stdout",
          "text": [
            "enter some string:Random Access Memory\n",
            "RAM"
          ]
        }
      ]
    },
    {
      "cell_type": "code",
      "source": [
        "#Python function that accepts a string and calculates the number of uppercase letters and lowercase letters.\n",
        "string=\"I Love my parents and I respect them.\"\n",
        "count_1=0\n",
        "count_2=0\n",
        "for i in string:\n",
        " if i.isupper():\n",
        "  count_1+=1\n",
        " elif i.islower():\n",
        "  count_2+=1\n",
        "else:\n",
        " pass\n",
        "print(\"No.of uppercase alphabets are: \",count_1)\n",
        "print(\"No.of lowercase alphabets are: \",count_2)"
      ],
      "metadata": {
        "colab": {
          "base_uri": "https://localhost:8080/"
        },
        "id": "rLmvqvAfqIts",
        "outputId": "db891638-5af5-4475-d825-c72fbefea936"
      },
      "execution_count": null,
      "outputs": [
        {
          "output_type": "stream",
          "name": "stdout",
          "text": [
            "No.of uppercase alphabets are:  3\n",
            "No.of lowercase alphabets are:  26\n"
          ]
        }
      ]
    },
    {
      "cell_type": "code",
      "source": [
        "#Program to count the number of strings where the string length is 2 or more and the first and last character are same from a given list of strings\n",
        "#Sample List : ['abc', 'xyz', 'aba', '1221'] Expected Result : 2\n",
        "sample_List = ['abc', 'xyz', 'aba','1221','india','43']\n",
        "count=0\n",
        "for i in Sample_List:\n",
        " if len(i)>=2:\n",
        "  if i[0]==i[len(i)-1]:\n",
        "   print(i)\n",
        " count+=1\n",
        "print(count)"
      ],
      "metadata": {
        "colab": {
          "base_uri": "https://localhost:8080/"
        },
        "id": "3bx1zQk0rTbt",
        "outputId": "91f85f0d-38cd-4f52-9506-dda134099dc2"
      },
      "execution_count": null,
      "outputs": [
        {
          "output_type": "stream",
          "name": "stdout",
          "text": [
            "aba\n",
            "1221\n",
            "6\n"
          ]
        }
      ]
    }
  ]
}