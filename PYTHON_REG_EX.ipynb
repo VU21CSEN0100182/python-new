{
  "cells": [
    {
      "cell_type": "markdown",
      "metadata": {
        "id": "view-in-github",
        "colab_type": "text"
      },
      "source": [
        "<a href=\"https://colab.research.google.com/github/VU21CSEN0100182/python-new/blob/module-5/PYTHON_REG_EX.ipynb\" target=\"_parent\"><img src=\"https://colab.research.google.com/assets/colab-badge.svg\" alt=\"Open In Colab\"/></a>"
      ]
    },
    {
      "cell_type": "code",
      "execution_count": null,
      "metadata": {
        "colab": {
          "base_uri": "https://localhost:8080/"
        },
        "id": "EpSTBOgvIwaG",
        "outputId": "c846cdda-59b5-4aac-a8b0-6a5ea793800f"
      },
      "outputs": [
        {
          "name": "stdout",
          "output_type": "stream",
          "text": [
            "\n",
            "NO,permission\n",
            "\n"
          ]
        }
      ],
      "source": [
        "#Search the string to see if it starts with \"I\" and ends with \"MOVIE\":\n",
        "import re \n",
        "txt=\"i want to go for a movie\"\n",
        "x=re.search(\"&a movie\",txt)\n",
        "if x:\n",
        "  print(\"YES,permission to go\\n\")\n",
        "else:\n",
        "    print(\"\\nNO,permission\\n\")"
      ]
    },
    {
      "cell_type": "markdown",
      "metadata": {
        "id": "wzu_hbRLQUSi"
      },
      "source": [
        "the findall function"
      ]
    },
    {
      "cell_type": "code",
      "execution_count": null,
      "metadata": {
        "colab": {
          "base_uri": "https://localhost:8080/"
        },
        "id": "ny3YM-KALzsJ",
        "outputId": "43dd55a4-b297-499f-ab71-3bdc57681b85"
      },
      "outputs": [
        {
          "name": "stdout",
          "output_type": "stream",
          "text": [
            "['o', 'o', 'o', 'o']\n"
          ]
        }
      ],
      "source": [
        "#it prints a list of matches\n",
        "import re \n",
        "txt=\"i want to go for a movie\"\n",
        "x=re.findall(\"o\",txt)\n",
        "print(x)"
      ]
    },
    {
      "cell_type": "code",
      "execution_count": null,
      "metadata": {
        "colab": {
          "base_uri": "https://localhost:8080/"
        },
        "id": "nf8u53JrOemt",
        "outputId": "74b112e4-4016-4bf6-fee0-f968c684f2a2"
      },
      "outputs": [
        {
          "name": "stdout",
          "output_type": "stream",
          "text": [
            "[' ', ' ', ' ', ' ', ' ']\n",
            "\n",
            "yes found\n"
          ]
        }
      ],
      "source": [
        "#return the empty list if word not found\n",
        "import re\n",
        "txt=\"i want to go for movie\"\n",
        "x=re.findall(\"\\s\",txt)\n",
        "print(x)\n",
        "if x:\n",
        "  print(\"\\nyes found\")\n",
        "else:\n",
        "  print(\"\\nno not found\")"
      ]
    },
    {
      "cell_type": "code",
      "execution_count": null,
      "metadata": {
        "colab": {
          "base_uri": "https://localhost:8080/"
        },
        "id": "tak0BzrFPZQk",
        "outputId": "323362bd-b2d3-4fa1-8b50-325ac7682c8c"
      },
      "outputs": [
        {
          "name": "stdout",
          "output_type": "stream",
          "text": [
            "[]\n",
            "\n",
            "no not found\n"
          ]
        }
      ],
      "source": [
        "#new line\n",
        "import re\n",
        "txt=\"i want to go for movie\"\n",
        "x=re.findall(\"major\",txt)\n",
        "print(x)\n",
        "if x:\n",
        "  print(\"\\nyes found\")\n",
        "else:\n",
        "  print(\"\\nno not found\")"
      ]
    },
    {
      "cell_type": "code",
      "execution_count": null,
      "metadata": {
        "colab": {
          "base_uri": "https://localhost:8080/"
        },
        "id": "VGHRVxkySXrf",
        "outputId": "0a1ce02a-7701-4c06-e362-24edc902d863"
      },
      "outputs": [
        {
          "name": "stdout",
          "output_type": "stream",
          "text": [
            "['i ', 'wa', 'nt', 'to', 'go', 'fo', 'r ', 'mo', 'vi']\n",
            "\n",
            "yes found\n"
          ]
        }
      ],
      "source": [
        "#\\D the string does not contain digits\n",
        "import re\n",
        "txt=\"i ^want to go for movie\"\n",
        "x=re.findall(\"\\w\\D\",txt)\n",
        "print(x)\n",
        "if x:\n",
        "  print(\"\\nyes found\")\n",
        "else:\n",
        "  print(\"\\nno not found\")"
      ]
    },
    {
      "cell_type": "code",
      "execution_count": null,
      "metadata": {
        "colab": {
          "base_uri": "https://localhost:8080/"
        },
        "id": "7nifmpZvTt1M",
        "outputId": "707328b4-bdc7-4ac6-d73b-168cc9d69480"
      },
      "outputs": [
        {
          "name": "stdout",
          "output_type": "stream",
          "text": [
            "['DI', 'WA', 'LI', 'is', 'my', 'fa', 'vo', 'ri', 'te', 'fe', 'st', 'iv', 'al', 'It', 'is', 'th', 'e ', 'fe', 'st', 'iv', 'al', 'of', 'li', 'gh', 'ts', 'On', 'th', 'is', 'da', 'y ', 'we', 'pr', 'ay', 'fo', 'r ', 'DE', 'VI', 'LA', 'KS', 'HM', 'I.', 'We', 'ca', 'n ', 'li', 'gh', 't ', 'th', 'e ', 'ca', 'nd', 'le', 's ', 'an', 'd ', 'bu', 'rn', 'th', 'e ', 'cr', 'ak', 'er', 's.', 'in', 'th', 'is', 'ye', 'ar', 'it', 'is', 'ce', 'le', 'br', 'at', 'ed', 'on', '4 ', 'of', 'oc', 'to', 'be']\n"
          ]
        }
      ],
      "source": [
        "#the string does not contain digits\n",
        "import re\n",
        "txt=\"DIWALI is my favorite festival.It is the festival of lights.On this day we pray for DEVI LAKSHMI.We can light the candles and burn the crakers.in this year it is celebrated on 24 of october\"\n",
        "x=re.findall(\"\\w\\D\",txt)\n",
        "print(x)"
      ]
    },
    {
      "cell_type": "code",
      "execution_count": null,
      "metadata": {
        "colab": {
          "base_uri": "https://localhost:8080/"
        },
        "id": "kge341RDWsr_",
        "outputId": "0841b737-9f76-472e-edeb-59f4784a8c6f"
      },
      "outputs": [
        {
          "output_type": "stream",
          "name": "stdout",
          "text": [
            "[',', ',', ',', ',']\n"
          ]
        }
      ],
      "source": [
        "import re\n",
        "txt=\"Python is a computer programming language often used to build websites and software, automate tasks, and conduct data analysis.Python has a simple syntax similar to the English language.we can use Python to create arcade games, adventure games, and puzzle games.python is a simple and important programming language.\"\n",
        "x=re.findall(\",\",txt)\n",
        "print(x)"
      ]
    },
    {
      "cell_type": "code",
      "source": [
        "import re\n",
        "txt = \"Python is a computer programming language often used to build websites and software, automate tasks, and conduct data analysis.Python has a simple syntax similar to the English language.we can use Python to create arcade games, adventure games, and puzzle games.python is a simple and important programming language.\"\n",
        "x = re.split(\"\\s\", txt)\n",
        "print(x)"
      ],
      "metadata": {
        "colab": {
          "base_uri": "https://localhost:8080/"
        },
        "id": "3KvrBkVE8mdi",
        "outputId": "8f023479-2eef-4d3c-ba75-716fdea8a1b8"
      },
      "execution_count": null,
      "outputs": [
        {
          "output_type": "stream",
          "name": "stdout",
          "text": [
            "['Python', 'is', 'a', 'computer', 'programming', 'language', 'often', 'used', 'to', 'build', 'websites', 'and', 'software,', 'automate', 'tasks,', 'and', 'conduct', 'data', 'analysis.Python', 'has', 'a', 'simple', 'syntax', 'similar', 'to', 'the', 'English', 'language.we', 'can', 'use', 'Python', 'to', 'create', 'arcade', 'games,', 'adventure', 'games,', 'and', 'puzzle', 'games.python', 'is', 'a', 'simple', 'and', 'important', 'programming', 'language.']\n"
          ]
        }
      ]
    },
    {
      "cell_type": "code",
      "source": [
        "#split \\D\n",
        "import re\n",
        "txt=\"Python is a computer programming language often used to build websites and software, automate tasks, and conduct data analysis.Python has a simple syntax similar to the English language.we can use Python to create arcade games, adventure games, and puzzle games.python is a simple and important programming language.\"\n",
        "x=re.split(\"\\D\",txt)\n",
        "print(x)"
      ],
      "metadata": {
        "id": "VBXoHhxQ9LWU",
        "colab": {
          "base_uri": "https://localhost:8080/"
        },
        "outputId": "e11c7134-79bd-48fd-e679-3e1f3277665b"
      },
      "execution_count": null,
      "outputs": [
        {
          "output_type": "stream",
          "name": "stdout",
          "text": [
            "['', '', '', '', '', '', '', '', '', '', '', '', '', '', '', '', '', '', '', '', '', '', '', '', '', '', '', '', '', '', '', '', '', '', '', '', '', '', '', '', '', '', '', '', '', '', '', '', '', '', '', '', '', '', '', '', '', '', '', '', '', '', '', '', '', '', '', '', '', '', '', '', '', '', '', '', '', '', '', '', '', '', '', '', '', '', '', '', '', '', '', '', '', '', '', '', '', '', '', '', '', '', '', '', '', '', '', '', '', '', '', '', '', '', '', '', '', '', '', '', '', '', '', '', '', '', '', '', '', '', '', '', '', '', '', '', '', '', '', '', '', '', '', '', '', '', '', '', '', '', '', '', '', '', '', '', '', '', '', '', '', '', '', '', '', '', '', '', '', '', '', '', '', '', '', '', '', '', '', '', '', '', '', '', '', '', '', '', '', '', '', '', '', '', '', '', '', '', '', '', '', '', '', '', '', '', '', '', '', '', '', '', '', '', '', '', '', '', '', '', '', '', '', '', '', '', '', '', '', '', '', '', '', '', '', '', '', '', '', '', '', '', '', '', '', '', '', '', '', '', '', '', '', '', '', '', '', '', '', '', '', '', '', '', '', '', '', '', '', '', '', '', '', '', '', '', '', '', '', '', '', '', '', '', '', '', '', '', '', '', '', '', '', '', '', '', '', '', '', '', '', '', '', '', '', '', '', '', '', '', '', '', '', '', '', '', '']\n"
          ]
        }
      ]
    },
    {
      "cell_type": "code",
      "source": [
        "#sub() function\n",
        "import re\n",
        "txt=\"Python is a computer programming language often used to build websites and software, automate tasks, and conduct data analysis.Python has a simple syntax similar to the English language.we can use Python to create arcade games, adventure games, and puzzle games.python is a simple and important programming language.\"\n",
        "x=re.sub(\"\\s\",\"12\",txt)\n",
        "print(x)"
      ],
      "metadata": {
        "colab": {
          "base_uri": "https://localhost:8080/"
        },
        "id": "AP45OYZCrbqs",
        "outputId": "a57fdaf1-2fb6-488c-a3cb-272d147632cf"
      },
      "execution_count": null,
      "outputs": [
        {
          "output_type": "stream",
          "name": "stdout",
          "text": [
            "Python12is12a12computer12programming12language12often12used12to12build12websites12and12software,12automate12tasks,12and12conduct12data12analysis.Python12has12a12simple12syntax12similar12to12the12English12language.we12can12use12Python12to12create12arcade12games,12adventure12games,12and12puzzle12games.python12is12a12simple12and12important12programming12language.\n"
          ]
        }
      ]
    },
    {
      "cell_type": "code",
      "source": [
        "#count the text\n",
        "import re\n",
        "txt=\"Python is a computer programming language often used to build websites and software, automate tasks, and conduct data analysis.Python has a simple syntax similar to the English language.we can use Python to create arcade games, adventure games, and puzzle games.python is a simple and important programming language.\"\n",
        "x=re.sub(\"\\s\",\"12\",txt,9)\n",
        "print(x)"
      ],
      "metadata": {
        "colab": {
          "base_uri": "https://localhost:8080/"
        },
        "id": "kHneqMDfru01",
        "outputId": "9e142d73-50dd-4786-8d7c-2948f332365a"
      },
      "execution_count": null,
      "outputs": [
        {
          "output_type": "stream",
          "name": "stdout",
          "text": [
            "Python12is12a12computer12programming12language12often12used12to12build websites and software, automate tasks, and conduct data analysis.Python has a simple syntax similar to the English language.we can use Python to create arcade games, adventure games, and puzzle games.python is a simple and important programming language.\n"
          ]
        }
      ]
    },
    {
      "cell_type": "code",
      "source": [
        "#match object it will print some object\n",
        "import re\n",
        "txt=\"Python is a computer programming language often used to build websites and software, automate tasks, and conduct data analysis.Python has a simple syntax similar to the English language.we can use Python to create arcade games, adventure games, and puzzle games.python is a simple and important programming language.\"\n",
        "x=re.search(\"ai\",txt)\n",
        "print(x) "
      ],
      "metadata": {
        "colab": {
          "base_uri": "https://localhost:8080/"
        },
        "id": "i7j5pFM_sVHL",
        "outputId": "5d8afb4d-fbf5-41d8-affa-8234d3a8b39f"
      },
      "execution_count": null,
      "outputs": [
        {
          "output_type": "stream",
          "name": "stdout",
          "text": [
            "None\n"
          ]
        }
      ]
    },
    {
      "cell_type": "code",
      "source": [
        "import re\n",
        "txt=\"The rain in Spain\"\n",
        "x=re.search(\"ai\",txt)\n",
        "print(x)"
      ],
      "metadata": {
        "colab": {
          "base_uri": "https://localhost:8080/"
        },
        "id": "DzaV3X34yUWE",
        "outputId": "23d7907a-abae-4fc7-a76b-41a02244f1d6"
      },
      "execution_count": 27,
      "outputs": [
        {
          "output_type": "stream",
          "name": "stdout",
          "text": [
            "<re.Match object; span=(5, 7), match='ai'>\n"
          ]
        }
      ]
    },
    {
      "cell_type": "code",
      "source": [
        "#span\n",
        "import re\n",
        "txt=\"The rain in Spain\"\n",
        "x=re.search(r\"\\bS\\w+\", txt)\n",
        "print(x.span())"
      ],
      "metadata": {
        "colab": {
          "base_uri": "https://localhost:8080/"
        },
        "id": "PS0IPxcHycUs",
        "outputId": "7ec1d86f-75be-4a5b-bb8d-a245ba1a8aa1"
      },
      "execution_count": 28,
      "outputs": [
        {
          "output_type": "stream",
          "name": "stdout",
          "text": [
            "(12, 17)\n"
          ]
        }
      ]
    },
    {
      "cell_type": "code",
      "source": [
        "#string\n",
        "import re\n",
        "txt=\"The rain in Spain\"\n",
        "x=re.search(r\"\\bS\\w+\", txt)\n",
        "print(x.string)"
      ],
      "metadata": {
        "colab": {
          "base_uri": "https://localhost:8080/"
        },
        "id": "MYPlpo9gyhBC",
        "outputId": "6aaee6ac-7a57-4594-f604-dd1bce86bab2"
      },
      "execution_count": 30,
      "outputs": [
        {
          "output_type": "stream",
          "name": "stdout",
          "text": [
            "The rain in Spain\n"
          ]
        }
      ]
    },
    {
      "cell_type": "code",
      "source": [
        "#group\n",
        "import re\n",
        "txt=\"The rain in Spain\"\n",
        "x=re.search(r\"\\bS\\w+\", txt)\n",
        "print(x.group())"
      ],
      "metadata": {
        "colab": {
          "base_uri": "https://localhost:8080/"
        },
        "id": "y4zsDDwqyvBj",
        "outputId": "2da36d2b-4246-4115-a8de-d2081c9044ef"
      },
      "execution_count": 29,
      "outputs": [
        {
          "output_type": "stream",
          "name": "stdout",
          "text": [
            "Spain\n"
          ]
        }
      ]
    }
  ],
  "metadata": {
    "colab": {
      "collapsed_sections": [],
      "name": " PYTHON REG EX",
      "provenance": [],
      "authorship_tag": "ABX9TyP+fA5eBDOtsIvLF81UC0VI",
      "include_colab_link": true
    },
    "kernelspec": {
      "display_name": "Python 3",
      "name": "python3"
    },
    "language_info": {
      "name": "python"
    }
  },
  "nbformat": 4,
  "nbformat_minor": 0
}